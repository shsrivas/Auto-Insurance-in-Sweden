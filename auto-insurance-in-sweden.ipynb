{
 "cells": [
  {
   "cell_type": "code",
   "execution_count": 1,
   "metadata": {
    "_cell_guid": "b1076dfc-b9ad-4769-8c92-a6c4dae69d19",
    "_uuid": "8f2839f25d086af736a60e9eeb907d3b93b6e0e5",
    "execution": {
     "iopub.execute_input": "2021-08-07T13:43:05.162342Z",
     "iopub.status.busy": "2021-08-07T13:43:05.161925Z",
     "iopub.status.idle": "2021-08-07T13:43:05.178619Z",
     "shell.execute_reply": "2021-08-07T13:43:05.177601Z",
     "shell.execute_reply.started": "2021-08-07T13:43:05.162280Z"
    }
   },
   "outputs": [],
   "source": [
    "import numpy as np\n",
    "import pandas as pd\n",
    "import matplotlib.pyplot as plt\n"
   ]
  },
  {
   "cell_type": "markdown",
   "metadata": {},
   "source": [
    "# Loading the data"
   ]
  },
  {
   "cell_type": "code",
   "execution_count": 2,
   "metadata": {
    "execution": {
     "iopub.execute_input": "2021-08-07T13:43:05.183946Z",
     "iopub.status.busy": "2021-08-07T13:43:05.183437Z",
     "iopub.status.idle": "2021-08-07T13:43:05.292146Z",
     "shell.execute_reply": "2021-08-07T13:43:05.291519Z",
     "shell.execute_reply.started": "2021-08-07T13:43:05.183901Z"
    }
   },
   "outputs": [
    {
     "data": {
      "text/html": [
       "<div>\n",
       "<style scoped>\n",
       "    .dataframe tbody tr th:only-of-type {\n",
       "        vertical-align: middle;\n",
       "    }\n",
       "\n",
       "    .dataframe tbody tr th {\n",
       "        vertical-align: top;\n",
       "    }\n",
       "\n",
       "    .dataframe thead th {\n",
       "        text-align: right;\n",
       "    }\n",
       "</style>\n",
       "<table border=\"1\" class=\"dataframe\">\n",
       "  <thead>\n",
       "    <tr style=\"text-align: right;\">\n",
       "      <th></th>\n",
       "      <th>0</th>\n",
       "      <th>1</th>\n",
       "    </tr>\n",
       "  </thead>\n",
       "  <tbody>\n",
       "    <tr>\n",
       "      <th>0</th>\n",
       "      <td>108</td>\n",
       "      <td>392.5</td>\n",
       "    </tr>\n",
       "    <tr>\n",
       "      <th>1</th>\n",
       "      <td>19</td>\n",
       "      <td>46.2</td>\n",
       "    </tr>\n",
       "    <tr>\n",
       "      <th>2</th>\n",
       "      <td>13</td>\n",
       "      <td>15.7</td>\n",
       "    </tr>\n",
       "    <tr>\n",
       "      <th>3</th>\n",
       "      <td>124</td>\n",
       "      <td>422.2</td>\n",
       "    </tr>\n",
       "    <tr>\n",
       "      <th>4</th>\n",
       "      <td>40</td>\n",
       "      <td>119.4</td>\n",
       "    </tr>\n",
       "    <tr>\n",
       "      <th>5</th>\n",
       "      <td>57</td>\n",
       "      <td>170.9</td>\n",
       "    </tr>\n",
       "    <tr>\n",
       "      <th>6</th>\n",
       "      <td>23</td>\n",
       "      <td>56.9</td>\n",
       "    </tr>\n",
       "    <tr>\n",
       "      <th>7</th>\n",
       "      <td>14</td>\n",
       "      <td>77.5</td>\n",
       "    </tr>\n",
       "    <tr>\n",
       "      <th>8</th>\n",
       "      <td>45</td>\n",
       "      <td>214.0</td>\n",
       "    </tr>\n",
       "    <tr>\n",
       "      <th>9</th>\n",
       "      <td>10</td>\n",
       "      <td>65.3</td>\n",
       "    </tr>\n",
       "  </tbody>\n",
       "</table>\n",
       "</div>"
      ],
      "text/plain": [
       "     0      1\n",
       "0  108  392.5\n",
       "1   19   46.2\n",
       "2   13   15.7\n",
       "3  124  422.2\n",
       "4   40  119.4\n",
       "5   57  170.9\n",
       "6   23   56.9\n",
       "7   14   77.5\n",
       "8   45  214.0\n",
       "9   10   65.3"
      ]
     },
     "execution_count": 2,
     "metadata": {},
     "output_type": "execute_result"
    }
   ],
   "source": [
    "dataset = pd.read_csv('insurance.csv', skiprows = 5, header = None)\n",
    "dataset.head(10)"
   ]
  },
  {
   "cell_type": "markdown",
   "metadata": {},
   "source": [
    "# Spliting the Date into feature and label"
   ]
  },
  {
   "cell_type": "code",
   "execution_count": 3,
   "metadata": {
    "execution": {
     "iopub.execute_input": "2021-08-07T13:43:05.293849Z",
     "iopub.status.busy": "2021-08-07T13:43:05.293382Z",
     "iopub.status.idle": "2021-08-07T13:43:05.298510Z",
     "shell.execute_reply": "2021-08-07T13:43:05.297653Z",
     "shell.execute_reply.started": "2021-08-07T13:43:05.293806Z"
    }
   },
   "outputs": [],
   "source": [
    "X = dataset.iloc[:,0].values\n",
    "X = X.reshape([X.shape[0], 1])\n",
    "Y = dataset.iloc[:, -1].values"
   ]
  },
  {
   "cell_type": "code",
   "execution_count": 4,
   "metadata": {
    "execution": {
     "iopub.execute_input": "2021-08-07T13:43:05.299969Z",
     "iopub.status.busy": "2021-08-07T13:43:05.299701Z",
     "iopub.status.idle": "2021-08-07T13:43:05.314428Z",
     "shell.execute_reply": "2021-08-07T13:43:05.313350Z",
     "shell.execute_reply.started": "2021-08-07T13:43:05.299940Z"
    }
   },
   "outputs": [
    {
     "name": "stdout",
     "output_type": "stream",
     "text": [
      "[[108]\n",
      " [ 19]\n",
      " [ 13]\n",
      " [124]\n",
      " [ 40]\n",
      " [ 57]\n",
      " [ 23]\n",
      " [ 14]\n",
      " [ 45]\n",
      " [ 10]\n",
      " [  5]\n",
      " [ 48]\n",
      " [ 11]\n",
      " [ 23]\n",
      " [  7]\n",
      " [  2]\n",
      " [ 24]\n",
      " [  6]\n",
      " [  3]\n",
      " [ 23]\n",
      " [  6]\n",
      " [  9]\n",
      " [  9]\n",
      " [  3]\n",
      " [ 29]\n",
      " [  7]\n",
      " [  4]\n",
      " [ 20]\n",
      " [  7]\n",
      " [  4]\n",
      " [  0]\n",
      " [ 25]\n",
      " [  6]\n",
      " [  5]\n",
      " [ 22]\n",
      " [ 11]\n",
      " [ 61]\n",
      " [ 12]\n",
      " [  4]\n",
      " [ 16]\n",
      " [ 13]\n",
      " [ 60]\n",
      " [ 41]\n",
      " [ 37]\n",
      " [ 55]\n",
      " [ 41]\n",
      " [ 11]\n",
      " [ 27]\n",
      " [  8]\n",
      " [  3]\n",
      " [ 17]\n",
      " [ 13]\n",
      " [ 13]\n",
      " [ 15]\n",
      " [  8]\n",
      " [ 29]\n",
      " [ 30]\n",
      " [ 24]\n",
      " [  9]\n",
      " [ 31]\n",
      " [ 14]\n",
      " [ 53]\n",
      " [ 26]]\n",
      "[392.5  46.2  15.7 422.2 119.4 170.9  56.9  77.5 214.   65.3  20.9 248.1\n",
      "  23.5  39.6  48.8   6.6 134.9  50.9   4.4 113.   14.8  48.7  52.1  13.2\n",
      " 103.9  77.5  11.8  98.1  27.9  38.1   0.   69.2  14.6  40.3 161.5  57.2\n",
      " 217.6  58.1  12.6  59.6  89.9 202.4 181.3 152.8 162.8  73.4  21.3  92.6\n",
      "  76.1  39.9 142.1  93.   31.9  32.1  55.6 133.3 194.5 137.9  87.4 209.8\n",
      "  95.5 244.6 187.5]\n"
     ]
    }
   ],
   "source": [
    "print(X)\n",
    "print(Y)"
   ]
  },
  {
   "cell_type": "markdown",
   "metadata": {},
   "source": [
    "# Spliting the data into train and test set"
   ]
  },
  {
   "cell_type": "code",
   "execution_count": 5,
   "metadata": {
    "execution": {
     "iopub.execute_input": "2021-08-07T13:43:05.316147Z",
     "iopub.status.busy": "2021-08-07T13:43:05.315787Z",
     "iopub.status.idle": "2021-08-07T13:43:05.641596Z",
     "shell.execute_reply": "2021-08-07T13:43:05.640621Z",
     "shell.execute_reply.started": "2021-08-07T13:43:05.316115Z"
    }
   },
   "outputs": [],
   "source": [
    "from sklearn.model_selection import train_test_split\n",
    "\n",
    "X_train, X_test, Y_train, Y_test = train_test_split(X, Y, test_size = 0.3, random_state = 1)"
   ]
  },
  {
   "cell_type": "code",
   "execution_count": 6,
   "metadata": {
    "execution": {
     "iopub.execute_input": "2021-08-07T13:43:05.642876Z",
     "iopub.status.busy": "2021-08-07T13:43:05.642617Z",
     "iopub.status.idle": "2021-08-07T13:43:05.649856Z",
     "shell.execute_reply": "2021-08-07T13:43:05.648859Z",
     "shell.execute_reply.started": "2021-08-07T13:43:05.642851Z"
    }
   },
   "outputs": [
    {
     "data": {
      "text/plain": [
       "array([[  5],\n",
       "       [ 29],\n",
       "       [ 23],\n",
       "       [ 22],\n",
       "       [ 31],\n",
       "       [  6],\n",
       "       [  8],\n",
       "       [ 13],\n",
       "       [ 27],\n",
       "       [  5],\n",
       "       [ 17],\n",
       "       [ 25],\n",
       "       [  9],\n",
       "       [ 23],\n",
       "       [  9],\n",
       "       [  6],\n",
       "       [  0],\n",
       "       [  3],\n",
       "       [  3],\n",
       "       [ 40],\n",
       "       [  7],\n",
       "       [  4],\n",
       "       [  7],\n",
       "       [ 24],\n",
       "       [ 11],\n",
       "       [  3],\n",
       "       [ 26],\n",
       "       [  6],\n",
       "       [  7],\n",
       "       [ 23],\n",
       "       [ 41],\n",
       "       [ 14],\n",
       "       [ 14],\n",
       "       [ 19],\n",
       "       [ 24],\n",
       "       [108],\n",
       "       [  2],\n",
       "       [ 57],\n",
       "       [ 48],\n",
       "       [ 10],\n",
       "       [ 45],\n",
       "       [ 11],\n",
       "       [ 37],\n",
       "       [ 12]], dtype=int64)"
      ]
     },
     "execution_count": 6,
     "metadata": {},
     "output_type": "execute_result"
    }
   ],
   "source": [
    "X_train"
   ]
  },
  {
   "cell_type": "code",
   "execution_count": 7,
   "metadata": {
    "execution": {
     "iopub.execute_input": "2021-08-07T13:43:05.651507Z",
     "iopub.status.busy": "2021-08-07T13:43:05.651181Z",
     "iopub.status.idle": "2021-08-07T13:43:05.665064Z",
     "shell.execute_reply": "2021-08-07T13:43:05.664059Z",
     "shell.execute_reply.started": "2021-08-07T13:43:05.651445Z"
    }
   },
   "outputs": [
    {
     "data": {
      "text/plain": [
       "array([ 20.9, 133.3, 113. , 161.5, 209.8,  50.9,  55.6,  31.9,  92.6,\n",
       "        40.3, 142.1,  69.2,  87.4,  39.6,  52.1,  14.6,   0. ,  39.9,\n",
       "        13.2, 119.4,  48.8,  38.1,  27.9, 137.9,  21.3,   4.4, 187.5,\n",
       "        14.8,  77.5,  56.9,  73.4,  77.5,  95.5,  46.2, 134.9, 392.5,\n",
       "         6.6, 170.9, 248.1,  65.3, 214. ,  23.5, 152.8,  58.1])"
      ]
     },
     "execution_count": 7,
     "metadata": {},
     "output_type": "execute_result"
    }
   ],
   "source": [
    "Y_train"
   ]
  },
  {
   "cell_type": "markdown",
   "metadata": {},
   "source": [
    "# Mean"
   ]
  },
  {
   "cell_type": "code",
   "execution_count": 8,
   "metadata": {
    "execution": {
     "iopub.execute_input": "2021-08-07T13:43:05.668840Z",
     "iopub.status.busy": "2021-08-07T13:43:05.668223Z",
     "iopub.status.idle": "2021-08-07T13:43:05.679392Z",
     "shell.execute_reply": "2021-08-07T13:43:05.678256Z",
     "shell.execute_reply.started": "2021-08-07T13:43:05.668794Z"
    }
   },
   "outputs": [
    {
     "data": {
      "text/plain": [
       "22.904761904761905"
      ]
     },
     "execution_count": 8,
     "metadata": {},
     "output_type": "execute_result"
    }
   ],
   "source": [
    "X_mean = np.mean(X)\n",
    "X_mean"
   ]
  },
  {
   "cell_type": "code",
   "execution_count": 9,
   "metadata": {
    "execution": {
     "iopub.execute_input": "2021-08-07T13:43:05.681857Z",
     "iopub.status.busy": "2021-08-07T13:43:05.681415Z",
     "iopub.status.idle": "2021-08-07T13:43:05.695802Z",
     "shell.execute_reply": "2021-08-07T13:43:05.694648Z",
     "shell.execute_reply.started": "2021-08-07T13:43:05.681811Z"
    }
   },
   "outputs": [
    {
     "data": {
      "text/plain": [
       "98.18730158730159"
      ]
     },
     "execution_count": 9,
     "metadata": {},
     "output_type": "execute_result"
    }
   ],
   "source": [
    "Y_mean = np.mean(Y)\n",
    "Y_mean"
   ]
  },
  {
   "cell_type": "markdown",
   "metadata": {},
   "source": [
    "# Variance"
   ]
  },
  {
   "cell_type": "code",
   "execution_count": 10,
   "metadata": {
    "execution": {
     "iopub.execute_input": "2021-08-07T13:43:05.698195Z",
     "iopub.status.busy": "2021-08-07T13:43:05.697703Z",
     "iopub.status.idle": "2021-08-07T13:43:05.711963Z",
     "shell.execute_reply": "2021-08-07T13:43:05.710720Z",
     "shell.execute_reply.started": "2021-08-07T13:43:05.698085Z"
    }
   },
   "outputs": [
    {
     "data": {
      "text/plain": [
       "536.657596371882"
      ]
     },
     "execution_count": 10,
     "metadata": {},
     "output_type": "execute_result"
    }
   ],
   "source": [
    "X_variance = X.var()\n",
    "X_variance"
   ]
  },
  {
   "cell_type": "code",
   "execution_count": 11,
   "metadata": {
    "execution": {
     "iopub.execute_input": "2021-08-07T13:43:05.713425Z",
     "iopub.status.busy": "2021-08-07T13:43:05.712986Z",
     "iopub.status.idle": "2021-08-07T13:43:05.729214Z",
     "shell.execute_reply": "2021-08-07T13:43:05.728208Z",
     "shell.execute_reply.started": "2021-08-07T13:43:05.713344Z"
    }
   },
   "outputs": [
    {
     "data": {
      "text/plain": [
       "7505.052219702695"
      ]
     },
     "execution_count": 11,
     "metadata": {},
     "output_type": "execute_result"
    }
   ],
   "source": [
    "Y_variance = Y.var()\n",
    "Y_variance"
   ]
  },
  {
   "cell_type": "markdown",
   "metadata": {},
   "source": [
    "# Covariance function"
   ]
  },
  {
   "cell_type": "code",
   "execution_count": 12,
   "metadata": {
    "execution": {
     "iopub.execute_input": "2021-08-07T13:43:05.731030Z",
     "iopub.status.busy": "2021-08-07T13:43:05.730593Z",
     "iopub.status.idle": "2021-08-07T13:43:05.742727Z",
     "shell.execute_reply": "2021-08-07T13:43:05.741700Z",
     "shell.execute_reply.started": "2021-08-07T13:43:05.730986Z"
    }
   },
   "outputs": [
    {
     "name": "stdout",
     "output_type": "stream",
     "text": [
      "Cov(X,Y): [1832.05434618]\n"
     ]
    }
   ],
   "source": [
    "def covariance(X, Y):\n",
    "    x_mean = np.mean(X)\n",
    "    y_mean = np.mean(Y)\n",
    "    covar = 0.0\n",
    "    for i in range(len(X)):\n",
    "        covar += (X[i] - x_mean) * (Y[i] - y_mean)\n",
    "    return covar/len(X)\n",
    "\n",
    "\n",
    "\n",
    "covar_xy = covariance(X, Y)\n",
    "print(f'Cov(X,Y): {covar_xy}')"
   ]
  },
  {
   "cell_type": "markdown",
   "metadata": {},
   "source": [
    "# Covariance"
   ]
  },
  {
   "cell_type": "code",
   "execution_count": 13,
   "metadata": {
    "execution": {
     "iopub.execute_input": "2021-08-07T13:43:05.745841Z",
     "iopub.status.busy": "2021-08-07T13:43:05.745231Z",
     "iopub.status.idle": "2021-08-07T13:43:05.762006Z",
     "shell.execute_reply": "2021-08-07T13:43:05.760856Z",
     "shell.execute_reply.started": "2021-08-07T13:43:05.745794Z"
    }
   },
   "outputs": [
    {
     "data": {
      "text/html": [
       "<div>\n",
       "<style scoped>\n",
       "    .dataframe tbody tr th:only-of-type {\n",
       "        vertical-align: middle;\n",
       "    }\n",
       "\n",
       "    .dataframe tbody tr th {\n",
       "        vertical-align: top;\n",
       "    }\n",
       "\n",
       "    .dataframe thead th {\n",
       "        text-align: right;\n",
       "    }\n",
       "</style>\n",
       "<table border=\"1\" class=\"dataframe\">\n",
       "  <thead>\n",
       "    <tr style=\"text-align: right;\">\n",
       "      <th></th>\n",
       "      <th>0</th>\n",
       "      <th>1</th>\n",
       "    </tr>\n",
       "  </thead>\n",
       "  <tbody>\n",
       "    <tr>\n",
       "      <th>0</th>\n",
       "      <td>545.313364</td>\n",
       "      <td>1861.603610</td>\n",
       "    </tr>\n",
       "    <tr>\n",
       "      <th>1</th>\n",
       "      <td>1861.603610</td>\n",
       "      <td>7626.101449</td>\n",
       "    </tr>\n",
       "  </tbody>\n",
       "</table>\n",
       "</div>"
      ],
      "text/plain": [
       "             0            1\n",
       "0   545.313364  1861.603610\n",
       "1  1861.603610  7626.101449"
      ]
     },
     "execution_count": 13,
     "metadata": {},
     "output_type": "execute_result"
    }
   ],
   "source": [
    "dataset.cov()"
   ]
  },
  {
   "cell_type": "markdown",
   "metadata": {},
   "source": [
    "# Mean Squared Error (MSE)"
   ]
  },
  {
   "cell_type": "code",
   "execution_count": 14,
   "metadata": {
    "execution": {
     "iopub.execute_input": "2021-08-07T13:43:05.764171Z",
     "iopub.status.busy": "2021-08-07T13:43:05.763755Z",
     "iopub.status.idle": "2021-08-07T13:43:05.769875Z",
     "shell.execute_reply": "2021-08-07T13:43:05.768647Z",
     "shell.execute_reply.started": "2021-08-07T13:43:05.764126Z"
    }
   },
   "outputs": [],
   "source": [
    "def mse(y_true, y_pred):\n",
    "    \n",
    "    sq = ((y_true) - (y_pred)).astype('float')**2\n",
    "    mse_value = np.mean(sq)\n",
    "    \n",
    "    return mse_value\n",
    "    "
   ]
  },
  {
   "cell_type": "markdown",
   "metadata": {},
   "source": [
    "# Linear Regression"
   ]
  },
  {
   "cell_type": "code",
   "execution_count": 15,
   "metadata": {
    "execution": {
     "iopub.execute_input": "2021-08-07T13:43:05.771437Z",
     "iopub.status.busy": "2021-08-07T13:43:05.771143Z",
     "iopub.status.idle": "2021-08-07T13:43:05.828730Z",
     "shell.execute_reply": "2021-08-07T13:43:05.827633Z",
     "shell.execute_reply.started": "2021-08-07T13:43:05.771409Z"
    }
   },
   "outputs": [
    {
     "data": {
      "text/plain": [
       "LinearRegression()"
      ]
     },
     "execution_count": 15,
     "metadata": {},
     "output_type": "execute_result"
    }
   ],
   "source": [
    "from sklearn.linear_model import LinearRegression\n",
    "\n",
    "regressor = LinearRegression()\n",
    "regressor.fit(X_train, Y_train)"
   ]
  },
  {
   "cell_type": "markdown",
   "metadata": {},
   "source": [
    "# Predicting the values"
   ]
  },
  {
   "cell_type": "code",
   "execution_count": 16,
   "metadata": {
    "execution": {
     "iopub.execute_input": "2021-08-07T13:43:05.830430Z",
     "iopub.status.busy": "2021-08-07T13:43:05.830086Z",
     "iopub.status.idle": "2021-08-07T13:43:05.836823Z",
     "shell.execute_reply": "2021-08-07T13:43:05.836093Z",
     "shell.execute_reply.started": "2021-08-07T13:43:05.830399Z"
    }
   },
   "outputs": [
    {
     "data": {
      "text/plain": [
       "array([ 35.94897633, 120.91587228,  99.6741483 ,  96.13386096,\n",
       "       127.99644695,  39.48926366,  46.56983833,  64.27127498,\n",
       "       113.83529762,  35.94897633,  78.43242431, 106.75472296,\n",
       "        50.11012566,  99.6741483 ,  50.11012566,  39.48926366,\n",
       "        18.24753968,  28.86840167,  28.86840167, 159.85903293,\n",
       "        43.029551  ,  32.408689  ,  43.029551  , 103.21443563,\n",
       "        57.19070032,  28.86840167, 110.29501029,  39.48926366,\n",
       "        43.029551  ,  99.6741483 , 163.39932026,  67.81156231,\n",
       "        67.81156231,  85.51299897, 103.21443563, 400.59857145,\n",
       "        25.32811434, 220.04391756, 188.18133158,  53.65041299,\n",
       "       177.56046958,  57.19070032, 149.23817093,  60.73098765])"
      ]
     },
     "execution_count": 16,
     "metadata": {},
     "output_type": "execute_result"
    }
   ],
   "source": [
    "y_pred = regressor.predict(X_train)\n",
    "y_pred"
   ]
  },
  {
   "cell_type": "markdown",
   "metadata": {},
   "source": [
    "# Visualizing the Train set result"
   ]
  },
  {
   "cell_type": "code",
   "execution_count": 17,
   "metadata": {
    "execution": {
     "iopub.execute_input": "2021-08-07T13:43:05.838375Z",
     "iopub.status.busy": "2021-08-07T13:43:05.837958Z",
     "iopub.status.idle": "2021-08-07T13:43:06.006075Z",
     "shell.execute_reply": "2021-08-07T13:43:06.005357Z",
     "shell.execute_reply.started": "2021-08-07T13:43:05.838343Z"
    }
   },
   "outputs": [
    {
     "data": {
      "image/png": "[encoded data removed]",
      "text/plain": [
       "<Figure size 432x288 with 1 Axes>"
      ]
     },
     "metadata": {
      "needs_background": "light"
     },
     "output_type": "display_data"
    }
   ],
   "source": [
    "plt.scatter(X_train, Y_train, color = 'red')\n",
    "plt.plot(X_train, y_pred)\n",
    "plt.xlabel('Claims')\n",
    "plt.ylabel('Total payment')\n",
    "plt.show()"
   ]
  },
  {
   "cell_type": "markdown",
   "metadata": {},
   "source": [
    "# Predicting the test set values"
   ]
  },
  {
   "cell_type": "code",
   "execution_count": 18,
   "metadata": {
    "execution": {
     "iopub.execute_input": "2021-08-07T13:43:06.007523Z",
     "iopub.status.busy": "2021-08-07T13:43:06.007087Z",
     "iopub.status.idle": "2021-08-07T13:43:06.013445Z",
     "shell.execute_reply": "2021-08-07T13:43:06.012546Z",
     "shell.execute_reply.started": "2021-08-07T13:43:06.007480Z"
    }
   },
   "outputs": [
    {
     "data": {
      "text/plain": [
       "array([120.91587228,  74.89213698,  64.27127498,  89.0532863 ,\n",
       "       205.88276823,  64.27127498,  50.11012566, 163.39932026,\n",
       "       230.66477955, 212.9633429 ,  32.408689  ,  71.35184965,\n",
       "        57.19070032,  32.408689  , 124.45615961,  46.56983833,\n",
       "       457.24316875,  64.27127498, 234.20506688])"
      ]
     },
     "execution_count": 18,
     "metadata": {},
     "output_type": "execute_result"
    }
   ],
   "source": [
    "y_test_pred = regressor.predict(X_test)\n",
    "y_test_pred"
   ]
  },
  {
   "cell_type": "markdown",
   "metadata": {},
   "source": [
    "# Visualizing the Test set results"
   ]
  },
  {
   "cell_type": "code",
   "execution_count": 19,
   "metadata": {
    "execution": {
     "iopub.execute_input": "2021-08-07T13:43:06.016092Z",
     "iopub.status.busy": "2021-08-07T13:43:06.015762Z",
     "iopub.status.idle": "2021-08-07T13:43:06.153810Z",
     "shell.execute_reply": "2021-08-07T13:43:06.152794Z",
     "shell.execute_reply.started": "2021-08-07T13:43:06.016060Z"
    }
   },
   "outputs": [
    {
     "data": {
      "image/png": "[encoded data removed]",
      "text/plain": [
       "<Figure size 432x288 with 1 Axes>"
      ]
     },
     "metadata": {
      "needs_background": "light"
     },
     "output_type": "display_data"
    }
   ],
   "source": [
    "plt.scatter(X_test, Y_test, color = 'red')\n",
    "plt.plot(X_test, y_test_pred)\n",
    "plt.xlabel('Claims')\n",
    "plt.ylabel('Total payment')\n",
    "plt.show()"
   ]
  },
  {
   "cell_type": "markdown",
   "metadata": {},
   "source": [
    "# Making a single prediction"
   ]
  },
  {
   "cell_type": "code",
   "execution_count": 20,
   "metadata": {
    "execution": {
     "iopub.execute_input": "2021-08-07T13:43:06.155306Z",
     "iopub.status.busy": "2021-08-07T13:43:06.155019Z",
     "iopub.status.idle": "2021-08-07T13:43:06.160689Z",
     "shell.execute_reply": "2021-08-07T13:43:06.159791Z",
     "shell.execute_reply.started": "2021-08-07T13:43:06.155276Z"
    }
   },
   "outputs": [
    {
     "name": "stdout",
     "output_type": "stream",
     "text": [
      "[197.03204991]\n"
     ]
    }
   ],
   "source": [
    "print(regressor.predict([[50.5]]))"
   ]
  },
  {
   "cell_type": "markdown",
   "metadata": {},
   "source": [
    "# MSE: using the defined function mse()"
   ]
  },
  {
   "cell_type": "code",
   "execution_count": 21,
   "metadata": {
    "execution": {
     "iopub.execute_input": "2021-08-07T13:43:06.162308Z",
     "iopub.status.busy": "2021-08-07T13:43:06.161987Z",
     "iopub.status.idle": "2021-08-07T13:43:06.175593Z",
     "shell.execute_reply": "2021-08-07T13:43:06.174546Z",
     "shell.execute_reply.started": "2021-08-07T13:43:06.162277Z"
    }
   },
   "outputs": [
    {
     "data": {
      "text/plain": [
       "1368.1299866465297"
      ]
     },
     "execution_count": 21,
     "metadata": {},
     "output_type": "execute_result"
    }
   ],
   "source": [
    "mse(Y_train, y_pred)"
   ]
  },
  {
   "cell_type": "markdown",
   "metadata": {},
   "source": [
    "# MSE: using scikit learn library"
   ]
  },
  {
   "cell_type": "code",
   "execution_count": 22,
   "metadata": {
    "execution": {
     "iopub.execute_input": "2021-08-07T13:43:06.177246Z",
     "iopub.status.busy": "2021-08-07T13:43:06.176946Z",
     "iopub.status.idle": "2021-08-07T13:43:06.188162Z",
     "shell.execute_reply": "2021-08-07T13:43:06.187114Z",
     "shell.execute_reply.started": "2021-08-07T13:43:06.177216Z"
    }
   },
   "outputs": [
    {
     "data": {
      "text/plain": [
       "1368.1299866465297"
      ]
     },
     "execution_count": 22,
     "metadata": {},
     "output_type": "execute_result"
    }
   ],
   "source": [
    "from sklearn.metrics import mean_squared_error\n",
    "mse_al = mean_squared_error(Y_train, y_pred, squared= True)\n",
    "mse_al"
   ]
  },
  {
   "cell_type": "markdown",
   "metadata": {},
   "source": [
    "# Coefficients of Linear Regression"
   ]
  },
  {
   "cell_type": "code",
   "execution_count": 23,
   "metadata": {
    "execution": {
     "iopub.execute_input": "2021-08-07T13:43:06.190153Z",
     "iopub.status.busy": "2021-08-07T13:43:06.189506Z",
     "iopub.status.idle": "2021-08-07T13:43:06.199568Z",
     "shell.execute_reply": "2021-08-07T13:43:06.198587Z",
     "shell.execute_reply.started": "2021-08-07T13:43:06.190108Z"
    }
   },
   "outputs": [
    {
     "name": "stdout",
     "output_type": "stream",
     "text": [
      "Coefficient of linear regression(b1):  [3.54028733]\n",
      "Intercept of linear regressor(b0):  18.24753967721371\n"
     ]
    }
   ],
   "source": [
    "print(\"Coefficient of linear regression(b1): \", regressor.coef_)\n",
    "print(\"Intercept of linear regressor(b0): \", regressor.intercept_)"
   ]
  }
 ],
 "metadata": {
  "kernelspec": {
   "display_name": "Python 3 (ipykernel)",
   "language": "python",
   "name": "python3"
  },
  "language_info": {
   "codemirror_mode": {
    "name": "ipython",
    "version": 3
   },
   "file_extension": ".py",
   "mimetype": "text/x-python",
   "name": "python",
   "nbconvert_exporter": "python",
   "pygments_lexer": "ipython3",
   "version": "3.9.6"
  }
 },
 "nbformat": 4,
 "nbformat_minor": 4
}
